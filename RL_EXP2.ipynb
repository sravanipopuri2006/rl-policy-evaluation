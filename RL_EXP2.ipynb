{
  "nbformat": 4,
  "nbformat_minor": 0,
  "metadata": {
    "colab": {
      "provenance": []
    },
    "kernelspec": {
      "name": "python3",
      "display_name": "Python 3"
    },
    "language_info": {
      "name": "python"
    }
  },
  "cells": [
    {
      "cell_type": "code",
      "execution_count": null,
      "metadata": {
        "colab": {
          "base_uri": "https://localhost:8080/"
        },
        "id": "QqCQfLNLe6Y5",
        "outputId": "33f950eb-0b78-4cef-ca45-e9fbbb5ff1ec"
      },
      "outputs": [
        {
          "output_type": "stream",
          "name": "stdout",
          "text": [
            "Collecting gym-walk\n",
            "  Cloning https://github.com/mimoralea/gym-walk to /tmp/pip-install-cv4hjkdg/gym-walk_86d172f9b8cc49a391f2345e8ac65bb1\n",
            "  Running command git clone --filter=blob:none --quiet https://github.com/mimoralea/gym-walk /tmp/pip-install-cv4hjkdg/gym-walk_86d172f9b8cc49a391f2345e8ac65bb1\n",
            "  Resolved https://github.com/mimoralea/gym-walk to commit b915b94cf2ad16f8833a1ad92ea94e88159279f5\n",
            "  Preparing metadata (setup.py) ... \u001b[?25l\u001b[?25hdone\n",
            "Requirement already satisfied: gym in /usr/local/lib/python3.12/dist-packages (from gym-walk) (0.25.2)\n",
            "Requirement already satisfied: numpy>=1.18.0 in /usr/local/lib/python3.12/dist-packages (from gym->gym-walk) (2.0.2)\n",
            "Requirement already satisfied: cloudpickle>=1.2.0 in /usr/local/lib/python3.12/dist-packages (from gym->gym-walk) (3.1.1)\n",
            "Requirement already satisfied: gym-notices>=0.0.4 in /usr/local/lib/python3.12/dist-packages (from gym->gym-walk) (0.1.0)\n",
            "Building wheels for collected packages: gym-walk\n",
            "  Building wheel for gym-walk (setup.py) ... \u001b[?25l\u001b[?25hdone\n",
            "  Created wheel for gym-walk: filename=gym_walk-0.0.2-py3-none-any.whl size=5377 sha256=427135e3aea6a6bb70a121d06e5ed9a7db9536e84d28f647e9cd0b0d36cd339c\n",
            "  Stored in directory: /tmp/pip-ephem-wheel-cache-6jyzll94/wheels/bf/23/e5/a94be4a90dd18f7ce958c21f192276cb01ef0daaf2bc66583b\n",
            "Successfully built gym-walk\n",
            "Installing collected packages: gym-walk\n",
            "Successfully installed gym-walk-0.0.2\n"
          ]
        }
      ],
      "source": [
        "\n",
        "pip install git+https://github.com/mimoralea/gym-walk#egg=gym-walk\n"
      ]
    },
    {
      "cell_type": "code",
      "source": [
        "import warnings ; warnings.filterwarnings('ignore')\n",
        "\n",
        "import gym\n",
        "import numpy as np\n",
        "\n",
        "import random\n",
        "import warnings\n",
        "\n",
        "warnings.filterwarnings('ignore', category=DeprecationWarning)\n",
        "np.set_printoptions(suppress=True)\n",
        "random.seed(123); np.random.seed(123);"
      ],
      "metadata": {
        "colab": {
          "base_uri": "https://localhost:8080/"
        },
        "id": "14OWV-tdfCaq",
        "outputId": "7b6b91bd-be36-426c-ce87-2d7d98201b4e"
      },
      "execution_count": null,
      "outputs": [
        {
          "output_type": "stream",
          "name": "stderr",
          "text": [
            "Gym has been unmaintained since 2022 and does not support NumPy 2.0 amongst other critical functionality.\n",
            "Please upgrade to Gymnasium, the maintained drop-in replacement of Gym, or contact the authors of your software and request that they upgrade.\n",
            "See the migration guide at https://gymnasium.farama.org/introduction/migration_guide/ for additional information.\n"
          ]
        }
      ]
    },
    {
      "cell_type": "code",
      "source": [
        "def print_policy(pi, P, action_symbols=('<', 'v', '>', '^'), n_cols=4, title='Policy:'):\n",
        "    print(title)\n",
        "    arrs = {k:v for k,v in enumerate(action_symbols)}\n",
        "    for s in range(len(P)):\n",
        "        a = pi(s)\n",
        "        print(\"| \", end=\"\")\n",
        "        if np.all([done for action in P[s].values() for _, _, _, done in action]):\n",
        "            print(\"\".rjust(9), end=\" \")\n",
        "        else:\n",
        "            print(str(s).zfill(2), arrs[a].rjust(6), end=\" \")\n",
        "        if (s + 1) % n_cols == 0: print(\"|\")"
      ],
      "metadata": {
        "id": "QSX7b5DgfIzT"
      },
      "execution_count": null,
      "outputs": []
    },
    {
      "cell_type": "code",
      "source": [
        "def print_state_value_function(V, P, n_cols=4, prec=3, title='State-value function:'):\n",
        "    print(title)\n",
        "    for s in range(len(P)):\n",
        "        v = V[s]\n",
        "        print(\"| \", end=\"\")\n",
        "        if np.all([done for action in P[s].values() for _, _, _, done in action]):\n",
        "            print(\"\".rjust(9), end=\" \")\n",
        "        else:\n",
        "            print(str(s).zfill(2), '{}'.format(np.round(v, prec)).rjust(6), end=\" \")\n",
        "        if (s + 1) % n_cols == 0: print(\"|\")"
      ],
      "metadata": {
        "id": "H8nllllgfMW-"
      },
      "execution_count": null,
      "outputs": []
    },
    {
      "cell_type": "code",
      "source": [
        "def probability_success(env, pi, goal_state, n_episodes=100, max_steps=200):\n",
        "    random.seed(123); np.random.seed(123) ; env.seed(123)\n",
        "    results = []\n",
        "    for _ in range(n_episodes):\n",
        "        state, done, steps = env.reset(), False, 0\n",
        "        while not done and steps < max_steps:\n",
        "            state, _, done, h = env.step(pi(state))\n",
        "            steps += 1\n",
        "        results.append(state == goal_state)\n",
        "    return np.sum(results)/len(results)"
      ],
      "metadata": {
        "id": "PPJaQL7ofYf1"
      },
      "execution_count": null,
      "outputs": []
    },
    {
      "cell_type": "code",
      "source": [
        "\n",
        "def mean_return(env, pi, n_episodes=100, max_steps=200):\n",
        "    random.seed(123); np.random.seed(123) ; env.seed(123)\n",
        "    results = []\n",
        "    for _ in range(n_episodes):\n",
        "        state, done, steps = env.reset(), False, 0\n",
        "        results.append(0.0)\n",
        "        while not done and steps < max_steps:\n",
        "            state, reward, done, _ = env.step(pi(state))\n",
        "            results[-1] += reward\n",
        "            steps += 1\n",
        "    return np.mean(results)\n"
      ],
      "metadata": {
        "id": "wAKPi2cAfaEj"
      },
      "execution_count": null,
      "outputs": []
    },
    {
      "cell_type": "code",
      "source": [
        "\n",
        "env = gym.make('FrozenLake-v1')\n",
        "P = env.env.P\n",
        "init_state = env.reset()\n",
        "goal_state = 15\n",
        "LEFT, DOWN, RIGHT, UP = range(4)"
      ],
      "metadata": {
        "id": "hZYJcV_wfeZ7"
      },
      "execution_count": null,
      "outputs": []
    },
    {
      "cell_type": "code",
      "source": [
        "\n",
        "\n",
        "pi_frozenlake = lambda s: {\n",
        "    0: RIGHT,\n",
        "    1: DOWN,\n",
        "    2: RIGHT,\n",
        "    3: LEFT,\n",
        "    4: DOWN,\n",
        "    5: LEFT,\n",
        "    6: RIGHT,\n",
        "    7:LEFT,\n",
        "    8: UP,\n",
        "    9: DOWN,\n",
        "    10:LEFT,\n",
        "    11:DOWN,\n",
        "    12:RIGHT,\n",
        "    13:RIGHT,\n",
        "    14:DOWN,\n",
        "    15:LEFT #Stop\n",
        "}[s]\n",
        "print_policy(pi_frozenlake, P, action_symbols=('<', 'v', '>', '^'), n_cols=4)\n"
      ],
      "metadata": {
        "colab": {
          "base_uri": "https://localhost:8080/"
        },
        "id": "5rLHA1hmf2AP",
        "outputId": "ef7e438e-7ea1-404d-903b-f0249393a1be"
      },
      "execution_count": null,
      "outputs": [
        {
          "output_type": "stream",
          "name": "stdout",
          "text": [
            "Policy:\n",
            "| 00      > | 01      v | 02      > | 03      < |\n",
            "| 04      v |           | 06      > |           |\n",
            "| 08      ^ | 09      v | 10      < |           |\n",
            "|           | 13      > | 14      v |           |\n"
          ]
        }
      ]
    },
    {
      "cell_type": "code",
      "source": [
        "\n",
        "print('Reaches goal {:.2f}%. Obtains an average undiscounted return of {:.4f}.'.format(\n",
        "    probability_success(env, pi_frozenlake, goal_state=goal_state) * 100,\n",
        "    mean_return(env, pi_frozenlake)))\n"
      ],
      "metadata": {
        "colab": {
          "base_uri": "https://localhost:8080/"
        },
        "id": "gb-JscuDgALo",
        "outputId": "176d83fc-d17d-4b38-caa7-fbd1a754fde6"
      },
      "execution_count": null,
      "outputs": [
        {
          "output_type": "stream",
          "name": "stdout",
          "text": [
            "Reaches goal 10.00%. Obtains an average undiscounted return of 0.1000.\n"
          ]
        }
      ]
    },
    {
      "cell_type": "code",
      "source": [
        "pi_2 =lambda s: {\n",
        "    0: LEFT,\n",
        "    1: UP,\n",
        "    2: RIGHT,\n",
        "    3: DOWN,\n",
        "    4: DOWN,\n",
        "    5: LEFT,\n",
        "    6: RIGHT,\n",
        "    7:LEFT,\n",
        "    8: UP,\n",
        "    9: DOWN,\n",
        "    10:LEFT,\n",
        "    11:DOWN,\n",
        "    12:LEFT,\n",
        "    13:RIGHT,\n",
        "    14:UP,\n",
        "    15:LEFT #Stop\n",
        "}[s]\n",
        "\n",
        "print(\"Name: POPURI SRAVANI\")\n",
        "print(\"Register Number: 212223240117\")\n",
        "print_policy(pi_2, P, action_symbols=('<', 'v', '>', '^'), n_cols=4)"
      ],
      "metadata": {
        "colab": {
          "base_uri": "https://localhost:8080/"
        },
        "id": "Z0K7rXmJgDmS",
        "outputId": "7b71cada-45b1-4205-d94a-4efa7214191f"
      },
      "execution_count": 39,
      "outputs": [
        {
          "output_type": "stream",
          "name": "stdout",
          "text": [
            "Name: POPURI SRAVANI\n",
            "Register Number: 212223240117\n",
            "Policy:\n",
            "| 00      < | 01      ^ | 02      > | 03      v |\n",
            "| 04      v |           | 06      > |           |\n",
            "| 08      ^ | 09      v | 10      < |           |\n",
            "|           | 13      > | 14      ^ |           |\n"
          ]
        }
      ]
    },
    {
      "cell_type": "code",
      "source": [
        "print('Reaches goal {:.2f}%. Obtains an average undiscounted return of {:.4f}.'.format(\n",
        "    probability_success(env, pi_frozenlake, goal_state=goal_state) * 100,\n",
        "    mean_return(env, pi_2)))\n"
      ],
      "metadata": {
        "colab": {
          "base_uri": "https://localhost:8080/"
        },
        "id": "maj3UVAcg53G",
        "outputId": "27e751bf-5092-474b-a105-159bd4868bed"
      },
      "execution_count": 40,
      "outputs": [
        {
          "output_type": "stream",
          "name": "stdout",
          "text": [
            "Reaches goal 10.00%. Obtains an average undiscounted return of 0.1400.\n"
          ]
        }
      ]
    },
    {
      "cell_type": "markdown",
      "source": [
        "The agent consistently reaches the goal 10%. However, performance differs: average return improves from 0.1000 to 0.1400, showing a 40% efficiency increase with better strategies."
      ],
      "metadata": {
        "id": "y_h9nxPsiP1Y"
      }
    },
    {
      "cell_type": "code",
      "source": [
        "import numpy as np"
      ],
      "metadata": {
        "id": "zd2Kty97i8B8"
      },
      "execution_count": 41,
      "outputs": []
    },
    {
      "cell_type": "code",
      "source": [
        "import numpy as np\n",
        "\n",
        "def policy_evaluation(pi, p, gamma=0.1, theta=1e-10):\n",
        "    prev_V = np.zeros(len(p))\n",
        "    while True:\n",
        "        V = np.zeros(len(p))   # corrected spelling\n",
        "        for s in range(len(p)):\n",
        "            for prob, next_state, reward, done in p[s][pi(s)]:\n",
        "                V[s] += prob * (reward + gamma * prev_V[next_state] * (not done))\n",
        "        if np.max(np.abs(prev_V - V)) < theta:\n",
        "            break\n",
        "        prev_V = V.copy()\n",
        "    return V   # moved outside loop\n"
      ],
      "metadata": {
        "id": "k9NJzQ5djTOm"
      },
      "execution_count": 42,
      "outputs": []
    },
    {
      "cell_type": "code",
      "source": [
        "\n",
        "# Code to evaluate the first policy\n",
        "V1 = policy_evaluation(pi_frozenlake, P,gamma=0.99)\n",
        "print_state_value_function(V1, P, n_cols=4, prec=5)"
      ],
      "metadata": {
        "colab": {
          "base_uri": "https://localhost:8080/"
        },
        "id": "ILG1Rj1_jyjP",
        "outputId": "9bb9bfdf-df98-4497-9dbe-368d49dd19dd"
      },
      "execution_count": 43,
      "outputs": [
        {
          "output_type": "stream",
          "name": "stdout",
          "text": [
            "State-value function:\n",
            "| 00 0.11448 | 01 0.08191 | 02 0.13372 | 03 0.06586 |\n",
            "| 04 0.15053 |           | 06 0.20562 |           |\n",
            "| 08 0.30562 | 09 0.46997 | 10 0.48938 |           |\n",
            "|           | 13 0.62915 | 14 0.80739 |           |\n"
          ]
        }
      ]
    },
    {
      "cell_type": "code",
      "source": [
        "V2 = policy_evaluation(pi_2, P,gamma=0.99)\n",
        "print_state_value_function(V2, P, n_cols=4, prec=5)"
      ],
      "metadata": {
        "id": "OWW97z09kNKi",
        "outputId": "e43e8cb5-c2f4-4210-e045-55da7d110e51",
        "colab": {
          "base_uri": "https://localhost:8080/"
        }
      },
      "execution_count": 44,
      "outputs": [
        {
          "output_type": "stream",
          "name": "stdout",
          "text": [
            "State-value function:\n",
            "| 00 0.11112 | 01 0.10482 | 02 0.1017 | 03 0.05009 |\n",
            "| 04 0.11449 |           | 06 0.15639 |           |\n",
            "| 08 0.23244 | 09 0.35744 | 10 0.37221 |           |\n",
            "|           | 13 0.4785 | 14 0.61407 |           |\n"
          ]
        }
      ]
    },
    {
      "cell_type": "code",
      "source": [
        "\n",
        "V1>=V2"
      ],
      "metadata": {
        "id": "UfZPxcwRkTs4",
        "outputId": "00b188a9-cd54-49d5-900c-37bf22dfb1c0",
        "colab": {
          "base_uri": "https://localhost:8080/"
        }
      },
      "execution_count": 49,
      "outputs": [
        {
          "output_type": "execute_result",
          "data": {
            "text/plain": [
              "array([ True, False,  True,  True,  True,  True,  True,  True,  True,\n",
              "        True,  True,  True,  True,  True,  True,  True])"
            ]
          },
          "metadata": {},
          "execution_count": 49
        }
      ]
    },
    {
      "cell_type": "code",
      "source": [
        "\n",
        "if(np.sum(V1>=V2)>=11):\n",
        "  print(\"The first policy is the better policy\")\n",
        "elif(np.sum(V2>=V1)>=11):\n",
        "  print(\"The second policy is the better policy\")\n",
        "else:\n",
        "  print(\"Both policies have their merits.\")"
      ],
      "metadata": {
        "id": "GbERMKErkrK6",
        "outputId": "c8f654b6-39ba-4bda-dc5b-b3e04b41d00a",
        "colab": {
          "base_uri": "https://localhost:8080/"
        }
      },
      "execution_count": 50,
      "outputs": [
        {
          "output_type": "stream",
          "name": "stdout",
          "text": [
            "The first policy is the better policy\n"
          ]
        }
      ]
    }
  ]
}